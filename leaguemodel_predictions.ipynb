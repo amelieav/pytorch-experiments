{
  "nbformat": 4,
  "nbformat_minor": 0,
  "metadata": {
    "colab": {
      "provenance": [],
      "gpuType": "T4",
      "authorship_tag": "ABX9TyMcQFNidQm4Tl6spXh1xjOI",
      "include_colab_link": true
    },
    "kernelspec": {
      "name": "python3",
      "display_name": "Python 3"
    },
    "language_info": {
      "name": "python"
    },
    "accelerator": "GPU"
  },
  "cells": [
    {
      "cell_type": "markdown",
      "metadata": {
        "id": "view-in-github",
        "colab_type": "text"
      },
      "source": [
        "<a href=\"https://colab.research.google.com/github/amelieav/pytorch-experiments/blob/main/leaguemodel_predictions.ipynb\" target=\"_parent\"><img src=\"https://colab.research.google.com/assets/colab-badge.svg\" alt=\"Open In Colab\"/></a>"
      ]
    },
    {
      "cell_type": "code",
      "execution_count": null,
      "metadata": {
        "colab": {
          "base_uri": "https://localhost:8080/"
        },
        "id": "UtKDXnJm9A7w",
        "outputId": "6830aa03-2474-483b-adb3-303f845a51e6"
      },
      "outputs": [
        {
          "output_type": "stream",
          "name": "stdout",
          "text": [
            "Requirement already satisfied: torch in /usr/local/lib/python3.10/dist-packages (2.1.0+cu118)\n",
            "Requirement already satisfied: torchvision in /usr/local/lib/python3.10/dist-packages (0.16.0+cu118)\n",
            "Requirement already satisfied: filelock in /usr/local/lib/python3.10/dist-packages (from torch) (3.12.4)\n",
            "Requirement already satisfied: typing-extensions in /usr/local/lib/python3.10/dist-packages (from torch) (4.5.0)\n",
            "Requirement already satisfied: sympy in /usr/local/lib/python3.10/dist-packages (from torch) (1.12)\n",
            "Requirement already satisfied: networkx in /usr/local/lib/python3.10/dist-packages (from torch) (3.2)\n",
            "Requirement already satisfied: jinja2 in /usr/local/lib/python3.10/dist-packages (from torch) (3.1.2)\n",
            "Requirement already satisfied: fsspec in /usr/local/lib/python3.10/dist-packages (from torch) (2023.6.0)\n",
            "Requirement already satisfied: triton==2.1.0 in /usr/local/lib/python3.10/dist-packages (from torch) (2.1.0)\n",
            "Requirement already satisfied: numpy in /usr/local/lib/python3.10/dist-packages (from torchvision) (1.23.5)\n",
            "Requirement already satisfied: requests in /usr/local/lib/python3.10/dist-packages (from torchvision) (2.31.0)\n",
            "Requirement already satisfied: pillow!=8.3.*,>=5.3.0 in /usr/local/lib/python3.10/dist-packages (from torchvision) (9.4.0)\n",
            "Requirement already satisfied: MarkupSafe>=2.0 in /usr/local/lib/python3.10/dist-packages (from jinja2->torch) (2.1.3)\n",
            "Requirement already satisfied: charset-normalizer<4,>=2 in /usr/local/lib/python3.10/dist-packages (from requests->torchvision) (3.3.1)\n",
            "Requirement already satisfied: idna<4,>=2.5 in /usr/local/lib/python3.10/dist-packages (from requests->torchvision) (3.4)\n",
            "Requirement already satisfied: urllib3<3,>=1.21.1 in /usr/local/lib/python3.10/dist-packages (from requests->torchvision) (2.0.7)\n",
            "Requirement already satisfied: certifi>=2017.4.17 in /usr/local/lib/python3.10/dist-packages (from requests->torchvision) (2023.7.22)\n",
            "Requirement already satisfied: mpmath>=0.19 in /usr/local/lib/python3.10/dist-packages (from sympy->torch) (1.3.0)\n"
          ]
        }
      ],
      "source": [
        "!pip install torch torchvision"
      ]
    },
    {
      "cell_type": "code",
      "source": [
        "import torch\n",
        "import torchvision\n",
        "\n",
        "device = torch.device(\"cuda\" if torch.cuda.is_available() else \"cpu\")\n",
        "print(device)\n"
      ],
      "metadata": {
        "colab": {
          "base_uri": "https://localhost:8080/"
        },
        "id": "qCYwIa-k95mq",
        "outputId": "c5f83dcf-00d0-4613-d571-b79c450ae819"
      },
      "execution_count": null,
      "outputs": [
        {
          "output_type": "stream",
          "name": "stdout",
          "text": [
            "cuda\n"
          ]
        }
      ]
    },
    {
      "cell_type": "code",
      "source": [
        "import os\n",
        "\n",
        "def delete_all_files_in_folder(folder_path):\n",
        "    for filename in os.listdir(folder_path):\n",
        "        file_path = os.path.join(folder_path, filename)\n",
        "        try:\n",
        "            if os.path.isfile(file_path) or os.path.islink(file_path):\n",
        "                os.unlink(file_path)\n",
        "            elif os.path.isdir(file_path):\n",
        "                os.rmdir(file_path)\n",
        "        except Exception as e:\n",
        "            print(f'Failed to delete {file_path}. Reason: {e}')\n",
        "\n",
        "# Delete files in each folder\n",
        "#delete_all_files_in_folder('training')\n",
        "#delete_all_files_in_folder('test')\n",
        "#delete_all_files_in_folder('validation')"
      ],
      "metadata": {
        "id": "MSAW_KMHB1Mo"
      },
      "execution_count": null,
      "outputs": []
    },
    {
      "cell_type": "code",
      "source": [
        "import shutil\n",
        "for folder in ['training', 'validation', 'test']:\n",
        "    checkpoint_path = os.path.join(folder, '.ipynb_checkpoints')\n",
        "    if os.path.exists(checkpoint_path):\n",
        "        shutil.rmtree(checkpoint_path)\n"
      ],
      "metadata": {
        "id": "jMDGJv--EQUT"
      },
      "execution_count": null,
      "outputs": []
    },
    {
      "cell_type": "code",
      "source": [
        "import torch\n",
        "import torch.nn as nn\n",
        "import torch.optim as optim\n",
        "import torchvision.models as models\n",
        "from torchvision.models.resnet import ResNet50_Weights\n",
        "\n",
        "# Data Loading\n",
        "transform = transforms.Compose([\n",
        "    transforms.ToTensor(),\n",
        "    transforms.Normalize(mean=[0.485, 0.456, 0.406], std=[0.229, 0.224, 0.225])\n",
        "])\n",
        "\n",
        "train_dataset = datasets.ImageFolder(root='/content/training', transform=transform)\n",
        "train_loader = torch.utils.data.DataLoader(train_dataset, batch_size=32, shuffle=True)\n",
        "\n",
        "val_dataset = datasets.ImageFolder(root='/content/validation', transform=transform)\n",
        "val_loader = torch.utils.data.DataLoader(val_dataset, batch_size=32, shuffle=False)\n",
        "\n",
        "# Model Definition\n",
        "device = torch.device(\"cuda:0\" if torch.cuda.is_available() else \"cpu\")\n",
        "\n",
        "model = models.resnet50(weights=ResNet50_Weights.IMAGENET1K_V1)\n",
        "num_ftrs = model.fc.in_features\n",
        "\n",
        "# Assuming `n` classes (champions)\n",
        "n_classes = len(train_dataset.classes)\n",
        "model.fc = nn.Linear(num_ftrs, n_classes)\n",
        "model = model.to(device)\n",
        "\n",
        "criterion = nn.CrossEntropyLoss()\n",
        "optimizer = optim.SGD(model.parameters(), lr=0.001, momentum=0.9)\n",
        "\n",
        "# 2. Training Loop\n",
        "num_epochs = 10\n",
        "\n",
        "for epoch in range(num_epochs):\n",
        "    model.train()\n",
        "    running_loss = 0.0\n",
        "    for inputs, labels in train_loader:\n",
        "        inputs, labels = inputs.to(device), labels.to(device)\n",
        "\n",
        "        optimizer.zero_grad()\n",
        "\n",
        "        outputs = model(inputs)\n",
        "        loss = criterion(outputs, labels)\n",
        "        loss.backward()\n",
        "        optimizer.step()\n",
        "\n",
        "        running_loss += loss.item() * inputs.size(0)\n",
        "\n",
        "    epoch_loss = running_loss / len(train_dataset)\n",
        "    print(f\"Epoch [{epoch+1}/{num_epochs}] Loss: {epoch_loss:.4f}\")\n",
        "\n",
        "    # 3. Validation Loop\n",
        "    model.eval()\n",
        "    val_running_loss = 0.0\n",
        "    correct_preds = 0\n",
        "\n",
        "    with torch.no_grad():\n",
        "        for inputs, labels in val_loader:\n",
        "            inputs, labels = inputs.to(device), labels.to(device)\n",
        "\n",
        "            outputs = model(inputs)\n",
        "            loss = criterion(outputs, labels)\n",
        "            val_running_loss += loss.item() * inputs.size(0)\n",
        "\n",
        "            _, preds = torch.max(outputs, 1)\n",
        "            correct_preds += torch.sum(preds == labels.data)\n",
        "\n",
        "        val_epoch_loss = val_running_loss / len(val_dataset)\n",
        "        val_accuracy = correct_preds.double() / len(val_dataset)\n",
        "\n",
        "    print(f\"Validation Loss: {val_epoch_loss:.4f}, Accuracy: {val_accuracy:.4f}\")\n"
      ],
      "metadata": {
        "colab": {
          "base_uri": "https://localhost:8080/"
        },
        "id": "EQ_IoXRa_RzY",
        "outputId": "53a82808-cb94-46ba-e99e-ed66e322fabf"
      },
      "execution_count": null,
      "outputs": [
        {
          "output_type": "stream",
          "name": "stdout",
          "text": [
            "Epoch [1/10] Loss: 1.1184\n",
            "Validation Loss: 1.0204, Accuracy: 0.4545\n",
            "Epoch [2/10] Loss: 1.0827\n",
            "Validation Loss: 1.0083, Accuracy: 0.4545\n",
            "Epoch [3/10] Loss: 1.0192\n",
            "Validation Loss: 0.9966, Accuracy: 0.5455\n",
            "Epoch [4/10] Loss: 0.9377\n",
            "Validation Loss: 0.9852, Accuracy: 0.5455\n",
            "Epoch [5/10] Loss: 0.8468\n",
            "Validation Loss: 0.9731, Accuracy: 0.4545\n",
            "Epoch [6/10] Loss: 0.7535\n",
            "Validation Loss: 0.9617, Accuracy: 0.4545\n",
            "Epoch [7/10] Loss: 0.6621\n",
            "Validation Loss: 0.9509, Accuracy: 0.4545\n",
            "Epoch [8/10] Loss: 0.5756\n",
            "Validation Loss: 0.9381, Accuracy: 0.4545\n",
            "Epoch [9/10] Loss: 0.4960\n",
            "Validation Loss: 0.9233, Accuracy: 0.4545\n",
            "Epoch [10/10] Loss: 0.4245\n",
            "Validation Loss: 0.9061, Accuracy: 0.4545\n"
          ]
        }
      ]
    },
    {
      "cell_type": "code",
      "source": [
        "test_dataset = datasets.ImageFolder(root='/content/test', transform=transform)\n",
        "test_loader = torch.utils.data.DataLoader(test_dataset, batch_size=32, shuffle=False)\n",
        "\n",
        "model.eval()\n",
        "test_running_loss = 0.0\n",
        "correct_preds = 0\n",
        "\n",
        "with torch.no_grad():\n",
        "    for inputs, labels in test_loader:\n",
        "        inputs, labels = inputs.to(device), labels.to(device)\n",
        "        outputs = model(inputs)\n",
        "        loss = criterion(outputs, labels)\n",
        "        test_running_loss += loss.item() * inputs.size(0)\n",
        "        _, preds = torch.max(outputs, 1)\n",
        "        correct_preds += torch.sum(preds == labels.data)\n",
        "\n",
        "    test_loss = test_running_loss / len(test_dataset)\n",
        "    test_accuracy = correct_preds.double() / len(test_dataset)\n",
        "\n",
        "print(f\"Test Loss: {test_loss:.4f}, Test Accuracy: {test_accuracy:.4f}\")\n"
      ],
      "metadata": {
        "colab": {
          "base_uri": "https://localhost:8080/"
        },
        "id": "ibGtrDGFE01p",
        "outputId": "2af16fbf-1774-4e2d-9293-dadafc93e5de"
      },
      "execution_count": null,
      "outputs": [
        {
          "output_type": "stream",
          "name": "stdout",
          "text": [
            "Test Loss: 1.0467, Test Accuracy: 0.4000\n"
          ]
        }
      ]
    },
    {
      "cell_type": "code",
      "source": [
        "def predict_image(image_path, model, transform, classes):\n",
        "    image = Image.open(image_path).convert(\"RGB\")\n",
        "    image = transform(image).unsqueeze(0)\n",
        "    image = image.to(device)\n",
        "\n",
        "    model.eval()\n",
        "    with torch.no_grad():\n",
        "        output = model(image)\n",
        "        probabilities = nn.functional.softmax(output, dim=1)[0] * 100\n",
        "        _, predicted_class = torch.max(output, 1)\n",
        "\n",
        "    print(f\"Predicted class: {classes[predicted_class.item()]}\")\n",
        "    for i, score in enumerate(probabilities):\n",
        "        print(f\"{classes[i]}: {score:.2f}%\")\n",
        "\n",
        "    return classes[predicted_class.item()]\n",
        "\n",
        "# Example usage:\n",
        "# Annie image used appears most visually similar to Ahri",
        "image_path = \"/content/prediction/Annie_1.jpg\"\n",
        "predicted_class = predict_image(image_path, model, transform, train_dataset.classes)\n"
      ],
      "metadata": {
        "colab": {
          "base_uri": "https://localhost:8080/"
        },
        "id": "3jYl_vCXE9d4",
        "outputId": "b7c0178e-2883-46e2-a467-d158f04d347b"
      },
      "execution_count": null,
      "outputs": [
        {
          "output_type": "stream",
          "name": "stdout",
          "text": [
            "Predicted class: ahri\n",
            "aatrox: 30.95%\n",
            "ahri: 41.07%\n",
            "anivia: 27.98%\n"
          ]
        }
      ]
    }
  ]
}
